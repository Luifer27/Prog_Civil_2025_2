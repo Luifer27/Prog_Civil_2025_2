{
  "nbformat": 4,
  "nbformat_minor": 0,
  "metadata": {
    "colab": {
      "provenance": [],
      "authorship_tag": "ABX9TyPiYTJr0EsMksJRWcII6s9x",
      "include_colab_link": true
    },
    "kernelspec": {
      "name": "python3",
      "display_name": "Python 3"
    },
    "language_info": {
      "name": "python"
    }
  },
  "cells": [
    {
      "cell_type": "markdown",
      "metadata": {
        "id": "view-in-github",
        "colab_type": "text"
      },
      "source": [
        "<a href=\"https://colab.research.google.com/github/Luifer27/Prog_Civil_2025_2/blob/main/Semana_4_y_5_CIVIL.ipynb\" target=\"_parent\"><img src=\"https://colab.research.google.com/assets/colab-badge.svg\" alt=\"Open In Colab\"/></a>"
      ]
    },
    {
      "cell_type": "markdown",
      "source": [
        "# Situación de Interés en Ingeniería Civil fi :\n",
        " Un ingeniero estructural necesita calcular el peso de\n",
        "diferentes elementos de una construcción (vigas, columnas). El programa debe tener una base de datos\n",
        "con las densidades de materiales comunes (acero, concreto, madera) y, a partir del tipo de material y\n",
        "el volumen del elemento, debe calcular su peso total.\n",
        "\n",
        "3. Caso de Ingeniería Civil: Calculadora de Peso Estructural (Diccionarios y Funciones)\n",
        "• Paso a Paso del Código:\n",
        "1. Crear un diccionario que funcione como una base de datos de densidades. La clave será el\n",
        "nombre del material y el valor será su densidad en kg/m³.\n",
        "2. Crear una función calcular_peso que reciba el diccionario de densidades, el nombre del material\n",
        "y su volumen.\n",
        "3. Dentro de la función, buscar la densidad del material en el diccionario.\n",
        "4. Si el material existe, calcular y devolver el peso (densidad * volumen). Si no, devolver un mensaje\n",
        "de error o None.\n",
        "5. En el programa principal, pedir al usuario el tipo de material y las dimensiones del elemento para\n",
        "calcular su volumen.\n",
        "6. Llamar a la función calcular_peso y mostrar el resultado.\n"
      ],
      "metadata": {
        "id": "ds1nh1SKSkGH"
      }
    },
    {
      "cell_type": "code",
      "metadata": {
        "colab": {
          "base_uri": "https://localhost:8080/"
        },
        "id": "e7acf2e4",
        "outputId": "2df84ec4-c86d-48e6-9261-6a43738defea"
      },
      "source": [
        "# Paso 4: Crear un diccionario de densidades\n",
        "densidades = {\n",
        "    \"acero\": 7850,  # kg/m³\n",
        "    \"concreto\": 2400, # kg/m³\n",
        "    \"madera\": 700   # kg/m³ (densidad promedio, puede variar según el tipo)\n",
        "}\n",
        "\n",
        "# Paso 5, 6 y 7: Crear la función calcular_peso\n",
        "def calcular_peso(diccionario_densidades, nombre_material, volumen):\n",
        "  \"\"\"\n",
        "  Calcula el peso de un elemento estructural.\n",
        "\n",
        "  Args:\n",
        "    diccionario_densidades: Diccionario con las densidades de los materiales.\n",
        "    nombre_material: Nombre del material (string).\n",
        "    volumen: Volumen del elemento en m³ (float).\n",
        "\n",
        "  Returns:\n",
        "    El peso del elemento en kg (float) si el material existe, de lo contrario None.\n",
        "  \"\"\"\n",
        "  if nombre_material.lower() in diccionario_densidades:\n",
        "    densidad = diccionario_densidades[nombre_material.lower()]\n",
        "    peso = densidad * volumen\n",
        "    return peso\n",
        "  else:\n",
        "    return None\n",
        "\n",
        "# Paso 8 y 9: Programa principal\n",
        "def main():\n",
        "  print(\"Calculadora de Peso Estructural\")\n",
        "\n",
        "  while True:\n",
        "    # Pedir al usuario el tipo de material\n",
        "    material_input = input(f\"\\nIngrese el tipo de material ({', '.join(densidades.keys())}): \").lower()\n",
        "\n",
        "    # Verificar si el material está en el diccionario\n",
        "    if material_input not in densidades:\n",
        "      print(\"Material no encontrado. Por favor, ingrese uno de los materiales disponibles.\")\n",
        "      continue\n",
        "\n",
        "    try:\n",
        "      # Pedir al usuario las dimensiones para calcular el volumen (simplificado a pedir el volumen directamente)\n",
        "      volumen_input = float(input(\"Ingrese el volumen del elemento en m³: \"))\n",
        "\n",
        "      # Llamar a la función calcular_peso\n",
        "      peso_calculado = calcular_peso(densidades, material_input, volumen_input)\n",
        "\n",
        "      # Mostrar el resultado\n",
        "      if peso_calculado is not None:\n",
        "        print(f\"El peso del elemento de {material_input} con volumen {volumen_input} m³ es: {peso_calculado:.2f} kg\")\n",
        "      else:\n",
        "        # Este caso no debería ocurrir si se valida el material antes, pero se incluye por robustez\n",
        "        print(\"Error al calcular el peso. Verifique los datos ingresados.\")\n",
        "\n",
        "    except ValueError:\n",
        "      print(\"Entrada inválida para el volumen. Por favor, ingrese un número.\")\n",
        "    except Exception as e:\n",
        "      print(f\"Ocurrió un error: {e}\")\n",
        "\n",
        "    # Preguntar si desea calcular otro peso\n",
        "    otro_calculo = input(\"¿Desea calcular el peso de otro elemento? (s/n): \").lower()\n",
        "    if otro_calculo != 's':\n",
        "      break\n",
        "\n",
        "if __name__ == \"__main__\":\n",
        "  main()"
      ],
      "execution_count": null,
      "outputs": [
        {
          "name": "stdout",
          "output_type": "stream",
          "text": [
            "Calculadora de Peso Estructural\n",
            "\n",
            "Ingrese el tipo de material (acero, concreto, madera): madera\n",
            "Ingrese el volumen del elemento en m³: 100\n",
            "El peso del elemento de madera con volumen 100.0 m³ es: 70000.00 kg\n",
            "¿Desea calcular el peso de otro elemento? (s/n): s\n",
            "\n",
            "Ingrese el tipo de material (acero, concreto, madera): acero\n",
            "Ingrese el volumen del elemento en m³: 20\n",
            "El peso del elemento de acero con volumen 20.0 m³ es: 157000.00 kg\n",
            "¿Desea calcular el peso de otro elemento? (s/n): n\n"
          ]
        }
      ]
    },
    {
      "cell_type": "markdown",
      "source": [
        "# Situación 2: Función para Calcular el Área de una Sección Transversal\n",
        " En el diseño estructural, es común calcular el área de diferentes secciones transversales (rectangulares, circulares, etc.). Crearás una\n",
        "función específica para calcular el área de una sección rectangular, que podrá ser reutilizada fácilmente.\n",
        "\n",
        " Paso a Paso del Código (Guía para el Notebook)\n",
        "1. # Definir una función llamada 'area_rectangulo' que acepte dos parámetros:\n",
        "'base' y 'altura'.\n",
        "2. # Dentro de la función, calcular el área multiplicando la base por la altura.\n",
        "3. # La función debe devolver el resultado del cálculo.\n",
        "4. # En el programa principal, simular el cálculo para dos elementos estructurales\n",
        "diferentes (ej. una viga y una columna).\n",
        "5. # Para la viga, pedir su base y altura, llamar a la función 'area_rectangulo' y\n",
        "mostrar el resultado.\n",
        "6. # Para la columna, pedir su base y altura, llamar a la MISMA función 'area_rectangulo'\n",
        "y mostrar el resultado.\n",
        "7. # Resaltar cómo la función evitó tener que escribir la fórmula 'base * altura'\n",
        "dos veces."
      ],
      "metadata": {
        "id": "DnI8o5IobM_8"
      }
    },
    {
      "cell_type": "code",
      "metadata": {
        "colab": {
          "base_uri": "https://localhost:8080/"
        },
        "id": "03f9334c",
        "outputId": "3ca9c36d-927b-4c05-9299-e513dabdab6e"
      },
      "source": [
        "# Paso 1, 2 y 3: Definir la función area_rectangulo\n",
        "def area_rectangulo(base, altura):\n",
        "  \"\"\"\n",
        "  Calcula el área de una sección transversal rectangular.\n",
        "\n",
        "  Args:\n",
        "    base: La base del rectángulo (float).\n",
        "    altura: La altura del rectángulo (float).\n",
        "\n",
        "  Returns:\n",
        "    El área del rectángulo (float).\n",
        "  \"\"\"\n",
        "  return base * altura\n",
        "\n",
        "# Paso 4, 5 y 6: Simular el cálculo para dos elementos estructurales\n",
        "print(\"Calculadora de Área de Sección Transversal Rectangular\")\n",
        "\n",
        "# Cálculo para una viga\n",
        "print(\"\\n--- Cálculo para una Viga ---\")\n",
        "try:\n",
        "  base_viga = float(input(\"Ingrese la base de la viga (en metros): \"))\n",
        "  altura_viga = float(input(\"Ingrese la altura de la viga (en metros): \"))\n",
        "  area_viga = area_rectangulo(base_viga, altura_viga)\n",
        "  print(f\"El área de la sección transversal de la viga es: {area_viga:.2f} m²\")\n",
        "except ValueError:\n",
        "  print(\"Entrada inválida. Por favor, ingrese números para la base y la altura.\")\n",
        "\n",
        "\n",
        "# Cálculo para una columna\n",
        "print(\"\\n--- Cálculo para una Columna ---\")\n",
        "try:\n",
        "  base_columna = float(input(\"Ingrese la base de la columna (en metros): \"))\n",
        "  altura_columna = float(input(\"Ingrese la altura de la columna (en metros): \"))\n",
        "  area_columna = area_rectangulo(base_columna, altura_columna)\n",
        "  print(f\"El área de la sección transversal de la columna es: {area_columna:.2f} m²\")\n",
        "except ValueError:\n",
        "  print(\"Entrada inválida. Por favor, ingrese números para la base y la altura.\")\n",
        "\n",
        "# Paso 7: Resaltar la reutilización de la función\n",
        "print(\"\\n--- Reutilización de la Función ---\")\n",
        "print(\"Como se puede observar, utilizamos la misma función 'area_rectangulo' para calcular el área tanto de la viga como de la columna, evitando repetir la fórmula de cálculo.\")"
      ],
      "execution_count": 5,
      "outputs": [
        {
          "output_type": "stream",
          "name": "stdout",
          "text": [
            "Calculadora de Área de Sección Transversal Rectangular\n",
            "\n",
            "--- Cálculo para una Viga ---\n",
            "Ingrese la base de la viga (en metros): 20\n",
            "Ingrese la altura de la viga (en metros): 30\n",
            "El área de la sección transversal de la viga es: 600.00 m²\n",
            "\n",
            "--- Cálculo para una Columna ---\n",
            "Ingrese la base de la columna (en metros): 2\n",
            "Ingrese la altura de la columna (en metros): 5\n",
            "El área de la sección transversal de la columna es: 10.00 m²\n",
            "\n",
            "--- Reutilización de la Función ---\n",
            "Como se puede observar, utilizamos la misma función 'area_rectangulo' para calcular el área tanto de la viga como de la columna, evitando repetir la fórmula de cálculo.\n"
          ]
        }
      ]
    },
    {
      "cell_type": "markdown",
      "source": [
        "# Situación 1: Almacenamiento de Cargas Puntuales en una Viga\n",
        "Un ingeniero necesita registrar\n",
        "las diferentes cargas puntuales (en Kilonewtons) que actúan sobre una viga. El programa debe permitir\n",
        "registrar varias cargas, almacenarlas y luego mostrarlas junto con la carga máxima aplicada.\n",
        "\n",
        " Paso a Paso del Código (Guía para el Notebook)\n",
        "1. # Crear una lista vacía llamada 'cargas_viga'.\n",
        "2. # Preguntar al usuario cuántas cargas puntuales desea ingresar.\n",
        "3. # Usar un bucle 'for' que se repita ese número de veces.\n",
        "4. # En cada iteración, pedir el valor de la carga en kN y añadirlo a la lista\n",
        "'cargas_viga'.\n",
        "5. # Una vez que el bucle termina, mostrar todas las cargas registradas.\n",
        "6. # Utilizar la función max() para encontrar la carga más alta en la lista.\n",
        "7. # Imprimir la carga máxima encontrada, indicando sus unidades (kN)"
      ],
      "metadata": {
        "id": "05AOjiBndpsc"
      }
    },
    {
      "cell_type": "code",
      "metadata": {
        "colab": {
          "base_uri": "https://localhost:8080/"
        },
        "id": "0e0cd186",
        "outputId": "fa95b84c-9dc3-4ac2-db2d-bd806e066855"
      },
      "source": [
        "# Paso 1: Crear una lista vacía llamada 'cargas_viga'.\n",
        "cargas_viga = []\n",
        "\n",
        "# Paso 2: Preguntar al usuario cuántas cargas puntuales desea ingresar.\n",
        "try:\n",
        "  num_cargas = int(input(\"¿Cuántas cargas puntuales desea ingresar?: \"))\n",
        "\n",
        "  # Paso 3 y 4: Usar un bucle 'for' para pedir y añadir las cargas a la lista.\n",
        "  for i in range(num_cargas):\n",
        "    while True:\n",
        "      try:\n",
        "        carga = float(input(f\"Ingrese el valor de la carga {i+1} en kN: \"))\n",
        "        cargas_viga.append(carga)\n",
        "        break # Salir del bucle interior si la entrada es válida\n",
        "      except ValueError:\n",
        "        print(\"Entrada inválida. Por favor, ingrese un número para la carga.\")\n",
        "\n",
        "  # Paso 5: Mostrar todas las cargas registradas.\n",
        "  print(\"\\nCargas registradas:\")\n",
        "  for i, carga in enumerate(cargas_viga):\n",
        "    print(f\"Carga {i+1}: {carga:.2f} kN\")\n",
        "\n",
        "  # Paso 6 y 7: Utilizar la función max() para encontrar la carga más alta y mostrarla.\n",
        "  if cargas_viga: # Verificar si la lista no está vacía\n",
        "    carga_maxima = max(cargas_viga)\n",
        "    print(f\"\\nLa carga máxima aplicada es: {carga_maxima:.2f} kN\")\n",
        "  else:\n",
        "    print(\"\\nNo se ingresaron cargas.\")\n",
        "\n",
        "except ValueError:\n",
        "  print(\"Entrada inválida. Por favor, ingrese un número entero para la cantidad de cargas.\")"
      ],
      "execution_count": 6,
      "outputs": [
        {
          "output_type": "stream",
          "name": "stdout",
          "text": [
            "¿Cuántas cargas puntuales desea ingresar?: 4\n",
            "Ingrese el valor de la carga 1 en kN: 90\n",
            "Ingrese el valor de la carga 2 en kN: 50\n",
            "Ingrese el valor de la carga 3 en kN: 20\n",
            "Ingrese el valor de la carga 4 en kN: 80\n",
            "\n",
            "Cargas registradas:\n",
            "Carga 1: 90.00 kN\n",
            "Carga 2: 50.00 kN\n",
            "Carga 3: 20.00 kN\n",
            "Carga 4: 80.00 kN\n",
            "\n",
            "La carga máxima aplicada es: 90.00 kN\n"
          ]
        }
      ]
    }
  ]
}