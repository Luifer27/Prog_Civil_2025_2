{
  "nbformat": 4,
  "nbformat_minor": 0,
  "metadata": {
    "colab": {
      "provenance": [],
      "authorship_tag": "ABX9TyMj0tDQVyp2fc8S+O/38iNN",
      "include_colab_link": true
    },
    "kernelspec": {
      "name": "python3",
      "display_name": "Python 3"
    },
    "language_info": {
      "name": "python"
    }
  },
  "cells": [
    {
      "cell_type": "markdown",
      "metadata": {
        "id": "view-in-github",
        "colab_type": "text"
      },
      "source": [
        "<a href=\"https://colab.research.google.com/github/Luifer27/Prog_Civil_2025_2/blob/main/Semana_4_y_5_CIVIL.ipynb\" target=\"_parent\"><img src=\"https://colab.research.google.com/assets/colab-badge.svg\" alt=\"Open In Colab\"/></a>"
      ]
    },
    {
      "cell_type": "markdown",
      "source": [
        "# Situación de Interés en Ingeniería Civil fi :\n",
        " Un ingeniero estructural necesita calcular el peso de\n",
        "diferentes elementos de una construcción (vigas, columnas). El programa debe tener una base de datos\n",
        "con las densidades de materiales comunes (acero, concreto, madera) y, a partir del tipo de material y\n",
        "el volumen del elemento, debe calcular su peso total.\n",
        "\n",
        "3. Caso de Ingeniería Civil: Calculadora de Peso Estructural (Diccionarios y Funciones)\n",
        "• Paso a Paso del Código:\n",
        "1. Crear un diccionario que funcione como una base de datos de densidades. La clave será el\n",
        "nombre del material y el valor será su densidad en kg/m³.\n",
        "2. Crear una función calcular_peso que reciba el diccionario de densidades, el nombre del material\n",
        "y su volumen.\n",
        "3. Dentro de la función, buscar la densidad del material en el diccionario.\n",
        "4. Si el material existe, calcular y devolver el peso (densidad * volumen). Si no, devolver un mensaje\n",
        "de error o None.\n",
        "5. En el programa principal, pedir al usuario el tipo de material y las dimensiones del elemento para\n",
        "calcular su volumen.\n",
        "6. Llamar a la función calcular_peso y mostrar el resultado.\n"
      ],
      "metadata": {
        "id": "ds1nh1SKSkGH"
      }
    },
    {
      "cell_type": "code",
      "metadata": {
        "colab": {
          "base_uri": "https://localhost:8080/"
        },
        "id": "e7acf2e4",
        "outputId": "2df84ec4-c86d-48e6-9261-6a43738defea"
      },
      "source": [
        "# Paso 4: Crear un diccionario de densidades\n",
        "densidades = {\n",
        "    \"acero\": 7850,  # kg/m³\n",
        "    \"concreto\": 2400, # kg/m³\n",
        "    \"madera\": 700   # kg/m³ (densidad promedio, puede variar según el tipo)\n",
        "}\n",
        "\n",
        "# Paso 5, 6 y 7: Crear la función calcular_peso\n",
        "def calcular_peso(diccionario_densidades, nombre_material, volumen):\n",
        "  \"\"\"\n",
        "  Calcula el peso de un elemento estructural.\n",
        "\n",
        "  Args:\n",
        "    diccionario_densidades: Diccionario con las densidades de los materiales.\n",
        "    nombre_material: Nombre del material (string).\n",
        "    volumen: Volumen del elemento en m³ (float).\n",
        "\n",
        "  Returns:\n",
        "    El peso del elemento en kg (float) si el material existe, de lo contrario None.\n",
        "  \"\"\"\n",
        "  if nombre_material.lower() in diccionario_densidades:\n",
        "    densidad = diccionario_densidades[nombre_material.lower()]\n",
        "    peso = densidad * volumen\n",
        "    return peso\n",
        "  else:\n",
        "    return None\n",
        "\n",
        "# Paso 8 y 9: Programa principal\n",
        "def main():\n",
        "  print(\"Calculadora de Peso Estructural\")\n",
        "\n",
        "  while True:\n",
        "    # Pedir al usuario el tipo de material\n",
        "    material_input = input(f\"\\nIngrese el tipo de material ({', '.join(densidades.keys())}): \").lower()\n",
        "\n",
        "    # Verificar si el material está en el diccionario\n",
        "    if material_input not in densidades:\n",
        "      print(\"Material no encontrado. Por favor, ingrese uno de los materiales disponibles.\")\n",
        "      continue\n",
        "\n",
        "    try:\n",
        "      # Pedir al usuario las dimensiones para calcular el volumen (simplificado a pedir el volumen directamente)\n",
        "      volumen_input = float(input(\"Ingrese el volumen del elemento en m³: \"))\n",
        "\n",
        "      # Llamar a la función calcular_peso\n",
        "      peso_calculado = calcular_peso(densidades, material_input, volumen_input)\n",
        "\n",
        "      # Mostrar el resultado\n",
        "      if peso_calculado is not None:\n",
        "        print(f\"El peso del elemento de {material_input} con volumen {volumen_input} m³ es: {peso_calculado:.2f} kg\")\n",
        "      else:\n",
        "        # Este caso no debería ocurrir si se valida el material antes, pero se incluye por robustez\n",
        "        print(\"Error al calcular el peso. Verifique los datos ingresados.\")\n",
        "\n",
        "    except ValueError:\n",
        "      print(\"Entrada inválida para el volumen. Por favor, ingrese un número.\")\n",
        "    except Exception as e:\n",
        "      print(f\"Ocurrió un error: {e}\")\n",
        "\n",
        "    # Preguntar si desea calcular otro peso\n",
        "    otro_calculo = input(\"¿Desea calcular el peso de otro elemento? (s/n): \").lower()\n",
        "    if otro_calculo != 's':\n",
        "      break\n",
        "\n",
        "if __name__ == \"__main__\":\n",
        "  main()"
      ],
      "execution_count": 4,
      "outputs": [
        {
          "name": "stdout",
          "output_type": "stream",
          "text": [
            "Calculadora de Peso Estructural\n",
            "\n",
            "Ingrese el tipo de material (acero, concreto, madera): madera\n",
            "Ingrese el volumen del elemento en m³: 100\n",
            "El peso del elemento de madera con volumen 100.0 m³ es: 70000.00 kg\n",
            "¿Desea calcular el peso de otro elemento? (s/n): s\n",
            "\n",
            "Ingrese el tipo de material (acero, concreto, madera): acero\n",
            "Ingrese el volumen del elemento en m³: 20\n",
            "El peso del elemento de acero con volumen 20.0 m³ es: 157000.00 kg\n",
            "¿Desea calcular el peso de otro elemento? (s/n): n\n"
          ]
        }
      ]
    }
  ]
}