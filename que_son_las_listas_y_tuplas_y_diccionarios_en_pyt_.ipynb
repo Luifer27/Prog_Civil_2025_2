{
  "cells": [
    {
      "cell_type": "markdown",
      "metadata": {
        "id": "view-in-github",
        "colab_type": "text"
      },
      "source": [
        "<a href=\"https://colab.research.google.com/github/Luifer27/Prog_Civil_2025_2/blob/main/que_son_las_listas_y_tuplas_y_diccionarios_en_pyt_.ipynb\" target=\"_parent\"><img src=\"https://colab.research.google.com/assets/colab-badge.svg\" alt=\"Open In Colab\"/></a>"
      ]
    },
    {
      "cell_type": "markdown",
      "source": [
        "En Python, las **listas**, **tuplas** y **diccionarios** son estructuras de datos que te permiten almacenar colecciones de elementos. Cada una tiene características y usos distintos.\n",
        "\n",
        "-----\n",
        "\n",
        "## Listas (list)\n",
        "\n",
        "Las listas son colecciones **ordenadas y mutables** de elementos. Esto significa que puedes cambiar, añadir o eliminar elementos después de crear la lista. Se definen usando corchetes `[]` y sus elementos se separan por comas. Las listas pueden contener elementos de diferentes tipos de datos (enteros, cadenas, otras listas, etc.).\n",
        "\n",
        "**Ejemplo:**"
      ],
      "metadata": {
        "id": "9erytC1aRReh"
      }
    },
    {
      "cell_type": "code",
      "source": [
        "mi_lista = [1, 'hola', 3.14, True]\n",
        "mi_lista[0] = 5  # Cambia el primer elemento\n",
        "mi_lista.append('nuevo')  # Añade un elemento al final\n",
        "print(mi_lista)\n",
        "# Salida: [5, 'hola', 3.14, True, 'nuevo']"
      ],
      "outputs": [],
      "execution_count": null,
      "metadata": {
        "id": "kP5hoeTARRek"
      }
    },
    {
      "cell_type": "markdown",
      "source": [
        "## Tuplas (tuple)\n",
        "\n",
        "Las tuplas son colecciones **ordenadas e inmutables** de elementos. Una vez que creas una tupla, no puedes cambiar, añadir o eliminar sus elementos. Se definen usando paréntesis `()` y se usan para agrupar datos que no deben modificarse. Aunque no se pueden modificar, puedes acceder a sus elementos de la misma forma que en las listas.\n",
        "\n",
        "**Ejemplo:**"
      ],
      "metadata": {
        "id": "z4IHOpcnRRel"
      }
    },
    {
      "cell_type": "code",
      "source": [
        "mi_tupla = (1, 'hola', 3.14)\n",
        "# mi_tupla[0] = 5  # Esto daría un error (TypeError) porque la tupla es inmutable\n",
        "print(mi_tupla[1])\n",
        "# Salida: 'hola'"
      ],
      "outputs": [],
      "execution_count": null,
      "metadata": {
        "id": "RmScMVoDRRem"
      }
    },
    {
      "cell_type": "markdown",
      "source": [
        "## Diccionarios (dict)\n",
        "\n",
        "Los diccionarios son colecciones **no ordenadas y mutables** de pares de **clave-valor**. En lugar de usar un índice numérico para acceder a los elementos, se usa una **clave única** (que puede ser un número, una cadena, etc.) para recuperar su **valor** asociado. Se definen usando llaves `{}`.\n",
        "\n",
        "**Ejemplo:**"
      ],
      "metadata": {
        "id": "SdF_N-J4RRen"
      }
    },
    {
      "cell_type": "code",
      "source": [
        "mi_diccionario = {'nombre': 'Juan', 'edad': 30, 'ciudad': 'Madrid'}\n",
        "print(mi_diccionario['nombre'])  # Accede al valor usando la clave 'nombre'\n",
        "# Salida: 'Juan'\n",
        "mi_diccionario['edad'] = 31  # Cambia el valor de la clave 'edad'\n",
        "mi_diccionario['profesion'] = 'Ingeniero'  # Añade un nuevo par clave-valor\n",
        "print(mi_diccionario)\n",
        "# Salida: {'nombre': 'Juan', 'edad': 31, 'ciudad': 'Madrid', 'profesion': 'Ingeniero'}"
      ],
      "outputs": [],
      "execution_count": null,
      "metadata": {
        "id": "UpVLMerVRRen"
      }
    },
    {
      "cell_type": "markdown",
      "source": [
        "-----\n",
        "\n",
        "## Resumen y Usos\n",
        "\n",
        "| Característica | Listas | Tuplas | Diccionarios |\n",
        "| :--- | :--- | :--- | :--- |\n",
        "| **Sintaxis** | `[]` | `()` | `{}` |\n",
        "| **Mutabilidad** | Mutables (modificables) | Inmutables (no modificables) | Mutables (modificables) |\n",
        "| **Orden** | Ordenadas (por índice) | Ordenadas (por índice) | No ordenadas (antes de Python 3.7) |\n",
        "| **Acceso** | Por índice numérico | Por índice numérico | Por clave |\n",
        "| **Cuándo usarlas** | Para colecciones de datos que pueden cambiar. | Para datos fijos o que no deben modificarse (ej. coordenadas, fechas). | Para almacenar datos relacionados con una clave única (ej. datos de un usuario). |"
      ],
      "metadata": {
        "id": "OcpeVYAiRReo"
      }
    }
  ],
  "metadata": {
    "colab": {
      "provenance": [],
      "include_colab_link": true
    },
    "kernelspec": {
      "display_name": "Python 3",
      "name": "python3"
    }
  },
  "nbformat": 4,
  "nbformat_minor": 0
}